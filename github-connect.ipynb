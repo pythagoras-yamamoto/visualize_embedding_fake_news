{
 "cells": [
  {
   "cell_type": "code",
   "execution_count": 5,
   "metadata": {},
   "outputs": [
    {
     "name": "stdout",
     "output_type": "stream",
     "text": [
      "/content/drive/MyDrive/Colab Notebooks/visualize_embedding_fake_news\n"
     ]
    }
   ],
   "source": [
    "%cd /content/drive/MyDrive/Colab Notebooks/visualize_embedding_fake_news"
   ]
  },
  {
   "cell_type": "markdown",
   "metadata": {},
   "source": []
  },
  {
   "cell_type": "code",
   "execution_count": 7,
   "metadata": {},
   "outputs": [],
   "source": [
    "!git add .\n",
    "!git status"
   ]
  },
  {
   "cell_type": "markdown",
   "metadata": {},
   "source": []
  },
  {
   "cell_type": "code",
   "execution_count": 4,
   "metadata": {},
   "outputs": [
    {
     "name": "stdout",
     "output_type": "stream",
     "text": [
      "warning: adding embedded git repository: Colab Notebooks/visualize_embedding_fake_news\n",
      "hint: You've added another git repository inside your current repository.\n",
      "hint: Clones of the outer repository will not contain the contents of\n",
      "hint: the embedded repository and will not know how to obtain it.\n",
      "hint: If you meant to add a submodule, use:\n",
      "hint: \n",
      "hint: \tgit submodule add <url> Colab Notebooks/visualize_embedding_fake_news\n",
      "hint: \n",
      "hint: If you added this path by mistake, you can remove it from the\n",
      "hint: index with:\n",
      "hint: \n",
      "hint: \tgit rm --cached Colab Notebooks/visualize_embedding_fake_news\n",
      "hint: \n",
      "hint: See \"git help submodule\" for more information.\n",
      "error: open(\"Hackthon_suporterz.gslides\"): Operation not supported\n",
      "error: unable to index file Hackthon_suporterz.gslides\n",
      "fatal: adding files failed\n",
      "On branch master\n",
      "\n",
      "Initial commit\n",
      "\n",
      "Untracked files:\n",
      "\t\u001b[31mColab Notebooks/\u001b[m\n",
      "\t\u001b[31mHackthon_suporterz.gslides\u001b[m\n",
      "\t\u001b[31mNetwork-resume/\u001b[m\n",
      "\t\u001b[31mnavitime-internship-0909-am.zip\u001b[m\n",
      "\t\u001b[31mnavitime-internship-0909-pm.zip\u001b[m\n",
      "\t\u001b[31mnavitime-internship-yamamoto-0908.zip\u001b[m\n",
      "\t\u001b[31mnavitime-internship-yamamoto.zip\u001b[m\n",
      "\t\u001b[31mroland.jpeg\u001b[m\n",
      "\t\u001b[31mstudy/\u001b[m\n",
      "\t\u001b[31mtext-autoencoders/\u001b[m\n",
      "\t\u001b[31mtransformers/\u001b[m\n",
      "\t\u001b[31m\"\\343\\202\\242\\343\\202\\244\\343\\203\\206\\343\\202\\231\\343\\202\\242\\347\\264\\271\\344\\273\\213\\343\\201\\256\\343\\203\\225\\343\\202\\232\\343\\203\\254\\343\\202\\273\\343\\202\\231\\343\\203\\263\\343\\203\\206\\343\\203\\274\\343\\202\\267\\343\\203\\247\\343\\203\\263\\357\\274\\210\\346\\217\\220\\344\\276\\233: Made To Stick\\357\\274\\211.gslides\"\u001b[m\n",
      "\t\u001b[31m\"\\343\\202\\250\\343\\203\\263\\343\\203\\210\\343\\203\\252\\343\\203\\274\\346\\267\\273\\344\\273\\230\\350\\263\\207\\346\\226\\231.pdf\"\u001b[m\n",
      "\t\u001b[31m\"\\351\\207\\221\\345\\244\\247\\346\\225\\260\\347\\211\\251\\357\\274\\277\\351\\231\\242\\350\\251\\246/\"\u001b[m\n",
      "\n",
      "nothing added to commit but untracked files present\n"
     ]
    }
   ],
   "source": [
    "! git add .\n",
    "! git commit -m \"connect github-colab\""
   ]
  }
 ],
 "metadata": {
  "kernelspec": {
   "display_name": "Python 3.7.13 64-bit",
   "language": "python",
   "name": "python3"
  },
  "language_info": {
   "codemirror_mode": {
    "name": "ipython",
    "version": 3
   },
   "file_extension": ".py",
   "mimetype": "text/x-python",
   "name": "python",
   "nbconvert_exporter": "python",
   "pygments_lexer": "ipython3",
   "version": "3.7.13"
  },
  "orig_nbformat": 4,
  "vscode": {
   "interpreter": {
    "hash": "31f2aee4e71d21fbe5cf8b01ff0e069b9275f58929596ceb00d14d90e3e16cd6"
   }
  }
 },
 "nbformat": 4,
 "nbformat_minor": 2
}
